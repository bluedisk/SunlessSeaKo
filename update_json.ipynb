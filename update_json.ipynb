{
 "cells": [
  {
   "cell_type": "code",
   "execution_count": 14,
   "metadata": {
    "collapsed": true
   },
   "outputs": [],
   "source": [
    "import json\n",
    "import sys\n",
    "from zipfile import ZipFile\n",
    "\n",
    "import os\n",
    "\n",
    "import datetime\n",
    "import pytz\n",
    "\n",
    "import telegram\n",
    "\n",
    "from pprint import pprint\n",
    "from translator import Translator\n",
    "\n",
    "OUTPUT_PATH = 'output'\n",
    "ORIGIN_PATH = 'entities'\n",
    "TRANS_PATH = 'entities_ko'\n",
    "STATUS_PATH = 'status'\n",
    "\n",
    "CONFIG_FILE = 'config.json'"
   ]
  },
  {
   "cell_type": "markdown",
   "metadata": {},
   "source": [
    "# Load configure"
   ]
  },
  {
   "cell_type": "code",
   "execution_count": 2,
   "metadata": {
    "collapsed": true
   },
   "outputs": [],
   "source": [
    "with open(CONFIG_FILE, \"r\") as f:\n",
    "    config = json.load(f)    "
   ]
  },
  {
   "cell_type": "markdown",
   "metadata": {},
   "source": [
    "# Initialize Telegram"
   ]
  },
  {
   "cell_type": "code",
   "execution_count": 3,
   "metadata": {},
   "outputs": [
    {
     "data": {
      "text/plain": [
       "<telegram.message.Message at 0x10b282d68>"
      ]
     },
     "execution_count": 3,
     "metadata": {},
     "output_type": "execute_result"
    }
   ],
   "source": [
    "bot = telegram.Bot(token = config['botToken']) \n",
    "bot.sendMessage(config['botGroupId'], \"\"\"오늘도 좋은 하루! 썬리스 씨봇입니다! \n",
    "😛 오늘 버전 🇰🇷 패치 제작을 시작합니다! 우우우웅~\"\"\") "
   ]
  },
  {
   "cell_type": "markdown",
   "metadata": {},
   "source": [
    "# Initialize Google API"
   ]
  },
  {
   "cell_type": "code",
   "execution_count": 4,
   "metadata": {
    "scrolled": true
   },
   "outputs": [
    {
     "name": "stdout",
     "output_type": "stream",
     "text": [
      "Initialize Google API\n"
     ]
    }
   ],
   "source": [
    "print(\"Initialize Google API\")\n",
    "translator = Translator(config['key'], config['sheetId'])\n",
    "translator.load_noun()"
   ]
  },
  {
   "cell_type": "markdown",
   "metadata": {
    "collapsed": true
   },
   "source": [
    "# Load translations"
   ]
  },
  {
   "cell_type": "code",
   "execution_count": 5,
   "metadata": {},
   "outputs": [
    {
     "name": "stdout",
     "output_type": "stream",
     "text": [
      "Loading events sheet 1/3\n",
      "Loading events sheet 2/3\n",
      "Loading events sheet 3/3\n",
      "Loading qualities\n"
     ]
    }
   ],
   "source": [
    "events = {}\n",
    "print(\"Loading events sheet 1/3\")\n",
    "event1_trans = translator.load_translation('events1.json')\n",
    "events.update(event1_trans)\n",
    "event1_trans=None\n",
    "\n",
    "print(\"Loading events sheet 2/3\")\n",
    "event2_trans = translator.load_translation('events2.json')\n",
    "events.update(event2_trans)\n",
    "event2_trans=None\n",
    "\n",
    "print(\"Loading events sheet 3/3\")\n",
    "event3_trans = translator.load_translation('events3.json')\n",
    "events.update(event3_trans)\n",
    "event3_trans=None\n",
    "\n",
    "print(\"Loading qualities\")\n",
    "qualities = translator.load_translation('qualities.json')"
   ]
  },
  {
   "cell_type": "markdown",
   "metadata": {},
   "source": [
    "# Check updated items"
   ]
  },
  {
   "cell_type": "code",
   "execution_count": 6,
   "metadata": {
    "collapsed": true
   },
   "outputs": [],
   "source": [
    "with open(os.path.join(STATUS_PATH, 'events.json'), 'r') as f:\n",
    "    last_events = json.load(f)\n",
    "    \n",
    "with open(os.path.join(STATUS_PATH, 'qualities.json'), 'r') as f:\n",
    "    last_qualities = json.load(f)    "
   ]
  },
  {
   "cell_type": "code",
   "execution_count": 7,
   "metadata": {},
   "outputs": [
    {
     "data": {
      "text/plain": [
       "<telegram.message.Message at 0x10b7e10f0>"
      ]
     },
     "execution_count": 7,
     "metadata": {},
     "output_type": "execute_result"
    }
   ],
   "source": [
    "def count_diff(old_dict, new_dict):\n",
    "    changed_count = 0\n",
    "    \n",
    "    for k, v in new_dict.items():\n",
    "        value = old_dict.get(k, None)\n",
    "        if not value or value != v:\n",
    "            changed_count += 1\n",
    "\n",
    "    return changed_count\n",
    "\n",
    "event_diff = count_diff(last_events, events)\n",
    "qualities_diff = count_diff(last_qualities, qualities)\n",
    "\n",
    "if not event_diff and not qualities_diff:\n",
    "    bot.sendMessage(config['botGroupId'], \"\"\"⁉️ 지자스... 업데이트가 없습니다... \n",
    "    따라서 오늘의 패치도 없습니다...😭\"\"\") \n",
    "    print(\"No updated\")\n",
    "    sys.exit(0)\n",
    "    \n",
    "bot.sendMessage(config['botGroupId'], \"\"\"오늘으으은~~! \n",
    "events에서 %s개, qualities에서 %s개가 변경 되었습니다! 👍\n",
    "🔊 처리를 시작합니다 지기지기~ 우우우웅~~ 둠칫둠칫~ 🔊\n",
    "\"\"\" % (event_diff, qualities_diff)) "
   ]
  },
  {
   "cell_type": "code",
   "execution_count": 8,
   "metadata": {
    "collapsed": true
   },
   "outputs": [],
   "source": [
    "with open(os.path.join(STATUS_PATH, 'events.json'), 'w') as f:\n",
    "    json.dump(events, f)\n",
    "    \n",
    "with open(os.path.join(STATUS_PATH, 'qualities.json'), 'w') as f:\n",
    "    json.dump(qualities, f)    "
   ]
  },
  {
   "cell_type": "code",
   "execution_count": 9,
   "metadata": {},
   "outputs": [
    {
     "name": "stdout",
     "output_type": "stream",
     "text": [
      "Loading original files\n"
     ]
    }
   ],
   "source": [
    "print(\"Loading original files\")\n",
    "with open(os.path.join(ORIGIN_PATH, 'events.json'), 'r') as f:\n",
    "    events_origin = json.load(f)\n",
    "\n",
    "with open(os.path.join(ORIGIN_PATH, 'qualities.json'), 'r') as f:\n",
    "    qualities_origin = json.load(f)\n"
   ]
  },
  {
   "cell_type": "markdown",
   "metadata": {
    "collapsed": true
   },
   "source": [
    "# Replacing original text to translated"
   ]
  },
  {
   "cell_type": "code",
   "execution_count": 10,
   "metadata": {},
   "outputs": [
    {
     "name": "stdout",
     "output_type": "stream",
     "text": [
      "events matched: 14676 unmatched: 19789  =  42.58232989989845 %\n",
      "qualities matched: 916 unmatched: 610  =  60.026212319790304 %\n"
     ]
    }
   ],
   "source": [
    "matched, unmatched = translator.recusive_update(events_origin, events)\n",
    "print('events matched:', matched, 'unmatched:', unmatched, \" = \", matched*100/(matched+unmatched), \"%\")\n",
    "\n",
    "matched, unmatched = translator.recusive_update(qualities_origin, qualities)\n",
    "print('qualities matched:', matched, 'unmatched:', unmatched, \" = \", matched*100/(matched+unmatched), \"%\")"
   ]
  },
  {
   "cell_type": "code",
   "execution_count": 11,
   "metadata": {},
   "outputs": [
    {
     "name": "stdout",
     "output_type": "stream",
     "text": [
      "Saving updated files\n"
     ]
    }
   ],
   "source": [
    "print(\"Saving updated files\")\n",
    "with open(os.path.join(TRANS_PATH, \"events.json\"), \"w\") as f:\n",
    "    json.dump(events_origin, f)\n",
    "    \n",
    "with open(os.path.join(TRANS_PATH, \"qualities.json\"), \"w\") as f:\n",
    "    json.dump(qualities_origin, f)"
   ]
  },
  {
   "cell_type": "markdown",
   "metadata": {},
   "source": [
    "# Package files"
   ]
  },
  {
   "cell_type": "code",
   "execution_count": 16,
   "metadata": {},
   "outputs": [
    {
     "name": "stdout",
     "output_type": "stream",
     "text": [
      "output/sunless_sea_ko_20180512_0141.zip\n"
     ]
    },
    {
     "data": {
      "text/plain": [
       "<telegram.message.Message at 0x10db40c88>"
      ]
     },
     "execution_count": 16,
     "metadata": {},
     "output_type": "execute_result"
    }
   ],
   "source": [
    "now = datetime.datetime.now(pytz.timezone('Asia/Seoul'))\n",
    "output_name = \"sunless_sea_ko_%s.zip\" % now.strftime('%Y%m%d_%H%M')\n",
    "output_path = os.path.join(OUTPUT_PATH, output_name)\n",
    "\n",
    "with ZipFile(output_path, 'w') as myzip:\n",
    "    myzip.write(os.path.join(TRANS_PATH, \"events.json\"), arcname=\"events.json\")\n",
    "    myzip.write(os.path.join(TRANS_PATH, \"qualities.json\"), arcname=\"qualities.json\")\n",
    "    \n",
    "print(output_path)\n",
    "bot.sendMessage(config['botGroupId'], \"\"\"\n",
    "\n",
    "파일 생성 완료! 파일 다운로드는 아래 링크를 이용해 주세요!\n",
    "--------------------------------------------\n",
    "http://eggpang.net/sunless/%s\n",
    "\"\"\" % output_name)\n"
   ]
  },
  {
   "cell_type": "code",
   "execution_count": null,
   "metadata": {
    "collapsed": true
   },
   "outputs": [],
   "source": []
  },
  {
   "cell_type": "code",
   "execution_count": null,
   "metadata": {
    "collapsed": true
   },
   "outputs": [],
   "source": []
  },
  {
   "cell_type": "code",
   "execution_count": null,
   "metadata": {
    "collapsed": true
   },
   "outputs": [],
   "source": []
  }
 ],
 "metadata": {
  "kernelspec": {
   "display_name": "Python 3",
   "language": "python",
   "name": "python3"
  },
  "language_info": {
   "codemirror_mode": {
    "name": "ipython",
    "version": 3
   },
   "file_extension": ".py",
   "mimetype": "text/x-python",
   "name": "python",
   "nbconvert_exporter": "python",
   "pygments_lexer": "ipython3",
   "version": "3.6.1"
  }
 },
 "nbformat": 4,
 "nbformat_minor": 2
}
