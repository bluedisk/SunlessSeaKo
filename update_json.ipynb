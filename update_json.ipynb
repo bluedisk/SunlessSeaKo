{
 "cells": [
  {
   "cell_type": "code",
   "execution_count": 63,
   "metadata": {
    "collapsed": true
   },
   "outputs": [],
   "source": [
    "import re\n",
    "import json\n",
    "import hgtk\n",
    "\n",
    "from pprint import pprint\n",
    "from googleapiclient import discovery"
   ]
  },
  {
   "cell_type": "code",
   "execution_count": 4,
   "metadata": {
    "collapsed": true
   },
   "outputs": [],
   "source": [
    "with open(\"config.json\", \"r\"):\n",
    "    config = json.load(f)"
   ]
  },
  {
   "cell_type": "code",
   "execution_count": 284,
   "metadata": {
    "collapsed": true
   },
   "outputs": [],
   "source": [
    "service = discovery.build('sheets', 'v4', developerKey=config['key'])\n",
    "use_google_trans = True"
   ]
  },
  {
   "cell_type": "code",
   "execution_count": 12,
   "metadata": {
    "collapsed": true,
    "scrolled": false
   },
   "outputs": [],
   "source": [
    "request = service.spreadsheets().get(spreadsheetId=config['sheetId'])\n",
    "response = request.execute()\n"
   ]
  },
  {
   "cell_type": "code",
   "execution_count": 24,
   "metadata": {},
   "outputs": [
    {
     "name": "stdout",
     "output_type": "stream",
     "text": [
      "{'areas.json': 2,\n",
      " 'dictionary': 65,\n",
      " 'events1.json': 23110,\n",
      " 'events2.json': 23103,\n",
      " 'events3.json': 23411,\n",
      " 'exchanges.json': 2002,\n",
      " 'notice': 78,\n",
      " 'personas.json': 3,\n",
      " 'proper_nouns': 1348,\n",
      " 'qualities.json': 6674,\n",
      " 'statistics': 13,\n",
      " 'statistics_all': 1,\n",
      " 'statistics_save': 510}\n"
     ]
    }
   ],
   "source": [
    "sheet_range = {}\n",
    "\n",
    "for sheet in response['sheets']:\n",
    "    title = sheet['properties']['title']\n",
    "    rows = sheet['properties']['gridProperties']['rowCount']\n",
    "    \n",
    "    sheet_range[title] = rows\n",
    "    \n",
    "pprint(sheet_range)\n"
   ]
  },
  {
   "cell_type": "code",
   "execution_count": 352,
   "metadata": {
    "collapsed": true
   },
   "outputs": [],
   "source": [
    "def getValues(sheet_name, from_col, to_col, skip=0):\n",
    "    range_ = \"'%s'!%s1:%s%s\" % (sheet_name, from_col, to_col, sheet_range[sheet_name]+1)\n",
    "\n",
    "    value_render_option = 'FORMATTED_VALUE'  \n",
    "    date_time_render_option = 'FORMATTED_STRING' \n",
    "\n",
    "    request = service.spreadsheets().values().get(spreadsheetId=config['sheetId'], range=range_, valueRenderOption=value_render_option, dateTimeRenderOption=date_time_render_option)\n",
    "    response = request.execute()\n",
    "\n",
    "    return response['values'][skip:]\n",
    "\n",
    "def getBest(trans, id_col=0, default_col=1):\n",
    "    if len(trans) > 4:\n",
    "        key = trans[id_col]\n",
    "        value = trans[-1].split('//')[0]\n",
    "    elif use_google_trans and len(trans) == 4:\n",
    "        key = trans[id_col]\n",
    "        value = \"[G] %s\" % trans[-1].split('//')[0]\n",
    "    else:\n",
    "        key = trans[id_col]\n",
    "        if len(trans) > default_col:\n",
    "            value = trans[default_col]\n",
    "        else:\n",
    "            value = ''\n",
    "        \n",
    "    return key, value"
   ]
  },
  {
   "cell_type": "code",
   "execution_count": 353,
   "metadata": {
    "collapsed": true
   },
   "outputs": [],
   "source": [
    "nouns_dict={}\n",
    "\n",
    "for row in getValues('proper_nouns', 'B', 'G'):\n",
    "    if not row: continue\n",
    "    \n",
    "    k, v = getBest(row, 1)\n",
    "    nouns_dict[k] = v\n",
    "    \n",
    "# pprint(nouns_dict)"
   ]
  },
  {
   "cell_type": "code",
   "execution_count": 354,
   "metadata": {
    "collapsed": true
   },
   "outputs": [],
   "source": [
    "def replace_nouns(text):\n",
    "    total_text = \"\"\n",
    "    splited=text.split('@')\n",
    "    \n",
    "    for idx in range(1, len(splited), 2):\n",
    "        word = splited[idx]\n",
    "        if word in nouns_dict:\n",
    "            word = nouns_dict[word]\n",
    "\n",
    "        if idx+1 > len(splited)-1:\n",
    "            total_text += word\n",
    "            continue\n",
    "\n",
    "        lefts = splited[idx+1]\n",
    "        josa = re.findall(r\"[\\w']+\", lefts)\n",
    "        nexts = \"\"\n",
    "\n",
    "        if josa and josa in ('은', '는', '이', '가', '을', '를', '와', '과', '이다', '다', '로', '으로'):\n",
    "\n",
    "            nexts = lefts[len(josa):]\n",
    "\n",
    "            if hgtk.checker.is_hangul(word):\n",
    "                if josa in ('은', '는'):\n",
    "                    word = hgtk.josa.attach(word, hgtk.josa.EUN_NEUN)\n",
    "                elif josa in ('이', '가'):\n",
    "                    word = hgtk.josa.attach(word, hgtk.josa.I_GA)\n",
    "                elif josa in ('을', '를'):\n",
    "                    word = hgtk.josa.attach(word, hgtk.josa.EUL_REUL)\n",
    "                elif josa in ('와', '과'):\n",
    "                    word = hgtk.josa.attach(word, hgtk.josa.GWA_WA)\n",
    "                elif josa in ('이다', '다'):\n",
    "                    word = hgtk.josa.attach(word, hgtk.josa.IDA_DA)\n",
    "                elif josa in ('로', '으로'):\n",
    "                    word = hgtk.josa.attach(word, hgtk.josa.EURO_RO)\n",
    "            else:\n",
    "                has_batchim = word[-1] in \"bcdfgjklmnpqrstvxz\"\n",
    "                \n",
    "                if josa in ('은', '는'):\n",
    "                    word += '은' if has_batchim else '는'\n",
    "                elif josa in ('이', '가'):\n",
    "                    word += '이' if has_batchim else '가'\n",
    "                elif josa in ('을', '를'):\n",
    "                    word += '을' if has_batchim else '를'\n",
    "                elif josa in ('와', '과'):\n",
    "                    word += '과' if has_batchim else '와'\n",
    "                elif josa in ('이다', '다'):\n",
    "                    word += '이다' if has_batchim else '다'\n",
    "                elif josa in ('로', '으로'):\n",
    "                    word += '으로' if has_batchim else '로'\n",
    "\n",
    "            total_text += word + nexts\n",
    "        else:\n",
    "            total_text += word + lefts\n",
    "        \n",
    "    return splited[0] + total_text\n",
    "\n",
    "# replace_nouns('나는 d@Drowning-Pearl@을 @Drowning-Pearl@과 교환하려 @할a@로 @dsad@ 거야.')"
   ]
  },
  {
   "cell_type": "code",
   "execution_count": 355,
   "metadata": {
    "collapsed": true
   },
   "outputs": [],
   "source": [
    "def loadTrans(sheet_name):\n",
    "    events_trans = {}\n",
    "    current_table = {}\n",
    "\n",
    "    for row in getValues(sheet_name, 'A', 'F', 3):\n",
    "        if row[0].startswith('@DataMappingObjectV1Header'):\n",
    "            current_table = {}\n",
    "\n",
    "        elif row[0].startswith('@DataMappingObjectV1Footer'):\n",
    "            events_trans[current_table['Id']] = current_table\n",
    "\n",
    "        elif row[0].startswith('@Mapping(5)'):\n",
    "            pass\n",
    "\n",
    "        else:\n",
    "            k, v = getBest(row, 0)\n",
    "            v = v.replace('\\\\', '')\n",
    "            current_table[k] = replace_nouns(v)\n",
    "\n",
    "    return events_trans\n"
   ]
  },
  {
   "cell_type": "code",
   "execution_count": null,
   "metadata": {
    "collapsed": true
   },
   "outputs": [],
   "source": []
  },
  {
   "cell_type": "code",
   "execution_count": 356,
   "metadata": {
    "collapsed": true
   },
   "outputs": [],
   "source": [
    "events = {}\n",
    "print(\"Loading events1\")\n",
    "events.update(loadTrans('events1.json'))\n",
    "print(\"Loading events2\")\n",
    "events.update(loadTrans('events2.json'))\n",
    "print(\"Loading events3\")\n",
    "events.update(loadTrans('events3.json'))\n",
    "\n",
    "print(\"Loading qualities\")\n",
    "qualities = loadTrans('qualities.json')"
   ]
  },
  {
   "cell_type": "code",
   "execution_count": 357,
   "metadata": {},
   "outputs": [
    {
     "data": {
      "text/plain": [
       "(9754,\n",
       " 723,\n",
       " ('182276',\n",
       "  {'Description': '당신은 킹이터즈 캐슬에서 진행할 수 있을 의식에 대해 설명했다. 어쨌건, 그는 그의 고통을 잊을 수 있을 것이다. 그는 그가 잊어버렸다는 사실 그 자체도 잊어버리겠지. 그의 고통받는 일면은 사라질 거고, 남은 것들만이 당신을 따를 것이다. 그는 몸서리치며. \"이건 용서 따위가 아냐.\" 이어서 속삭였다. \"하지만 정의 구현이란게 있다면 이런 거겠지.\"',\n",
       "   'Id': '182276',\n",
       "   'Name': '당신의 배가 꼬르륵 거린다',\n",
       "   'Teaser': '당신은 킹이터즈 캐슬에서 진행할 수 있을 의식에 대해 설명했다...'}),\n",
       " {'Description': '[G] 그녀는 Unterzee에 가장 큰 도시입니다. 그리고 당신은 그것을 잊지 마세요.',\n",
       "  'Id': '141880',\n",
       "  'Name': '런던!',\n",
       "  'Teaser': '[G] 그녀는 Unterzee에 가장 큰 도시입니다 ...'})"
      ]
     },
     "execution_count": 357,
     "metadata": {},
     "output_type": "execute_result"
    }
   ],
   "source": [
    "len(events), len(qualities), list(events.items())[0], events['141880']"
   ]
  },
  {
   "cell_type": "code",
   "execution_count": 358,
   "metadata": {},
   "outputs": [
    {
     "data": {
      "text/plain": [
       "(870, 956)"
      ]
     },
     "execution_count": 358,
     "metadata": {},
     "output_type": "execute_result"
    }
   ],
   "source": [
    "with open('entities/events.json') as f:\n",
    "    events_origin = json.load(f)\n",
    "\n",
    "with open('entities/qualities.json') as f:\n",
    "    qualities_origin = json.load(f)\n",
    "\n",
    "len(events_origin), len(qualities_origin)"
   ]
  },
  {
   "cell_type": "code",
   "execution_count": 359,
   "metadata": {
    "collapsed": true
   },
   "outputs": [],
   "source": [
    "def step_into(node, trans_dict):\n",
    "    matched = 0\n",
    "    unmatched = 0\n",
    "\n",
    "    if type(node) == dict:\n",
    "        if 'Id' in node:\n",
    "            node_id = node['Id']\n",
    "            trans = trans_dict.get(str(node_id), None)\n",
    "            if trans:\n",
    "                matched += 1\n",
    "\n",
    "                node['Name'] = trans['Name']\n",
    "                node['Teaser'] = trans['Teaser']\n",
    "                node['Description'] = trans['Description']\n",
    "\n",
    "                if not node['Teaser']:\n",
    "                    temp_teaset = node['Description'].split('.')[0][:40]\n",
    "                    node['Teaser'] = temp_teaset\n",
    "            else:\n",
    "                unmatched += 1\n",
    "\n",
    "        for k, v in node.items():\n",
    "            m, u = step_into(v, trans_dict)\n",
    "            matched += m\n",
    "            unmatched +=u\n",
    "\n",
    "    elif type(node) == list:\n",
    "        for item in node:\n",
    "            m, u = step_into(item, trans_dict)\n",
    "            matched += m\n",
    "            unmatched +=u\n",
    "\n",
    "    return matched, unmatched\n",
    "\n"
   ]
  },
  {
   "cell_type": "code",
   "execution_count": 360,
   "metadata": {},
   "outputs": [
    {
     "name": "stdout",
     "output_type": "stream",
     "text": [
      "events matched: 14676 unmatched: 19789  =  42.58232989989845 %\n",
      "qualities matched: 916 unmatched: 610  =  60.026212319790304 %\n"
     ]
    }
   ],
   "source": [
    "matched, unmatched = step_into(events_origin, events)\n",
    "print('events matched:', matched, 'unmatched:', unmatched, \" = \", matched*100/(matched+unmatched), \"%\")\n",
    "\n",
    "matched, unmatched = step_into(qualities_origin, qualities)\n",
    "print('qualities matched:', matched, 'unmatched:', unmatched, \" = \", matched*100/(matched+unmatched), \"%\")"
   ]
  },
  {
   "cell_type": "code",
   "execution_count": 361,
   "metadata": {
    "collapsed": true
   },
   "outputs": [],
   "source": [
    "with open(\"entities_kr/events.json\", \"w\") as f:\n",
    "    json.dump(events_origin, f)\n",
    "    \n",
    "with open(\"entities_kr/qualities.json\", \"w\") as f:\n",
    "    json.dump(qualities_origin, f)\n",
    "    \n",
    "    "
   ]
  },
  {
   "cell_type": "code",
   "execution_count": null,
   "metadata": {
    "collapsed": true
   },
   "outputs": [],
   "source": []
  },
  {
   "cell_type": "code",
   "execution_count": null,
   "metadata": {
    "collapsed": true
   },
   "outputs": [],
   "source": []
  }
 ],
 "metadata": {
  "kernelspec": {
   "display_name": "Python 3",
   "language": "python",
   "name": "python3"
  },
  "language_info": {
   "codemirror_mode": {
    "name": "ipython",
    "version": 3
   },
   "file_extension": ".py",
   "mimetype": "text/x-python",
   "name": "python",
   "nbconvert_exporter": "python",
   "pygments_lexer": "ipython3",
   "version": "3.6.1"
  }
 },
 "nbformat": 4,
 "nbformat_minor": 2
}
