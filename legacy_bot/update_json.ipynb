{
 "cells": [
  {
   "cell_type": "code",
   "execution_count": 1,
   "metadata": {},
   "outputs": [],
   "source": [
    "import json\n",
    "import sys\n",
    "import zipfile\n",
    "\n",
    "import os\n",
    "\n",
    "import datetime\n",
    "import pytz\n",
    "\n",
    "from pprint import pprint\n",
    "\n",
    "from modules.log import TelegramLog, PrintLog\n",
    "from modules.translator import Translator\n",
    "from modules.sunless import RecursiveUpdateProcessor, diff_tree\n",
    "\n",
    "OUTPUT_PATH = 'output'\n",
    "ORIGIN_PATH = 'entities'\n",
    "TRANS_PATH = 'entities_ko'\n",
    "STATUS_PATH = 'status'\n",
    "\n",
    "CONFIG_FILE = 'config.json'"
   ]
  },
  {
   "cell_type": "markdown",
   "metadata": {},
   "source": [
    "# Load configure"
   ]
  },
  {
   "cell_type": "code",
   "execution_count": 2,
   "metadata": {
    "collapsed": true
   },
   "outputs": [],
   "source": [
    "from modules.config import config"
   ]
  },
  {
   "cell_type": "markdown",
   "metadata": {},
   "source": [
    "# Initialize Telegram"
   ]
  },
  {
   "cell_type": "code",
   "execution_count": 3,
   "metadata": {},
   "outputs": [
    {
     "name": "stdout",
     "output_type": "stream",
     "text": [
      "오늘도 좋은 하루! 썬리스 씨봇입니다! \n",
      "😛 오늘 버전 🇰🇷 패치 제작을 시작합니다! 우우우웅~\n"
     ]
    }
   ],
   "source": [
    "if config['logMode'] == 'telegram':\n",
    "    log = TelegramLog(config['botToken'], config['botGroupId'])\n",
    "else:\n",
    "    log = PrintLog()\n",
    "    \n",
    "log.log(\"\"\"오늘도 좋은 하루! 썬리스 씨봇입니다! \n",
    "😛 오늘 버전 🇰🇷 패치 제작을 시작합니다! 우우우웅~\"\"\") "
   ]
  },
  {
   "cell_type": "markdown",
   "metadata": {},
   "source": [
    "# Initialize Google API"
   ]
  },
  {
   "cell_type": "code",
   "execution_count": 4,
   "metadata": {
    "scrolled": true
   },
   "outputs": [
    {
     "name": "stdout",
     "output_type": "stream",
     "text": [
      "Initialize Google API\n"
     ]
    }
   ],
   "source": [
    "print(\"Initialize Google API\")\n",
    "translator = Translator(config['key'], config['sheetId'])\n",
    "translator.load_noun()"
   ]
  },
  {
   "cell_type": "markdown",
   "metadata": {
    "collapsed": true
   },
   "source": [
    "# Load translations"
   ]
  },
  {
   "cell_type": "code",
   "execution_count": 5,
   "metadata": {},
   "outputs": [
    {
     "name": "stdout",
     "output_type": "stream",
     "text": [
      "Loading events sheet 1/3\n",
      "Loading events sheet 2/3\n",
      "146187 ['Name', \"Help Maybe's Daughter search for her mother\", '', '그녀의 어머니를 위해 아마의 딸 검색 도움말']\n",
      "146187 ['Teaser']\n",
      "146187 ['Description', '\\\\\"She was a spy, once, I think. I think she might still be one. Well, a lot of us are. Freelancers, anyway. Look, perhaps you shouldn\\'t say that to anyone at the Admiralty. I do talk nonsense when I\\'m nervous.\\\\\"', '', '\\\\ \"그녀는 스파이이었다 한 번, 나는 생각한다. 나는 그녀가 아직도 우리의 많은이 하나. 잘 될 것 같아요. 프리랜서는, 어쨌든. 봐, 아마도 당신은 해군에서 누구에게도 그런 말을해서는 안된다. 내가 이야기를 할 나는 긴장 넌센스. \\\\ \"']\n",
      "Loading events sheet 3/3\n",
      "Loading qualities\n"
     ]
    }
   ],
   "source": [
    "events = {}\n",
    "print(\"Loading events sheet 1/3\")\n",
    "events.update(translator.load_translation('events1.json'))\n",
    "\n",
    "print(\"Loading events sheet 2/3\")\n",
    "events.update(translator.load_translation('events2.json'))\n",
    "\n",
    "print(\"Loading events sheet 3/3\")\n",
    "events.update(translator.load_translation('events3.json'))\n",
    "\n",
    "print(\"Loading qualities\")\n",
    "qualities = translator.load_translation('qualities.json')"
   ]
  },
  {
   "cell_type": "code",
   "execution_count": 7,
   "metadata": {},
   "outputs": [
    {
     "data": {
      "text/plain": [
       "{'Description': 'G: \\\\ \"그녀는 스파이이었다 한 번, 나는 생각한다. 나는 그녀가 아직도 우리의 많은이 하나. 잘 될 것 같아요. 프리랜서는, 어쨌든. 봐, 아마도 당신은 해군에서 누구에게도 그런 말을해서는 안된다. 내가 이야기를 할 나는 긴장 넌센스. \\\\ \"',\n",
       " 'Id': '146187',\n",
       " 'Name': 'G: 그녀의 어머니를 위해 아마의 딸 검색 도움말',\n",
       " 'Name_origin': \"Help Maybe's Daughter search for her mother\",\n",
       " 'Teaser': ''}"
      ]
     },
     "execution_count": 7,
     "metadata": {},
     "output_type": "execute_result"
    }
   ],
   "source": [
    "events['146187']"
   ]
  },
  {
   "cell_type": "markdown",
   "metadata": {},
   "source": [
    "# Check updated items"
   ]
  },
  {
   "cell_type": "code",
   "execution_count": 6,
   "metadata": {
    "collapsed": true
   },
   "outputs": [],
   "source": [
    "with open(os.path.join(STATUS_PATH, 'events.json'), 'r') as f:\n",
    "    last_events = json.load(f)\n",
    "    \n",
    "with open(os.path.join(STATUS_PATH, 'qualities.json'), 'r') as f:\n",
    "    last_qualities = json.load(f)    "
   ]
  },
  {
   "cell_type": "code",
   "execution_count": 7,
   "metadata": {},
   "outputs": [
    {
     "name": "stdout",
     "output_type": "stream",
     "text": [
      "오늘으으은~~! \n",
      "events에서 0개, qualities에서 0개가 변경 되었습니다! 👍\n",
      "🔊 처리를 시작합니다 지기지기~ 우우우웅~~ 둠칫둠칫~ 🔊\n",
      "\n"
     ]
    }
   ],
   "source": [
    "event_diff = diff_tree(last_events, events)\n",
    "qualities_diff = diff_tree(last_qualities, qualities)\n",
    "\n",
    "if not config['force'] and not event_diff and not qualities_diff:\n",
    "    log.log(\"\"\"⁉️ 지자스... 업데이트가 없습니다... \n",
    "    따라서 오늘의 패치도 없습니다...😭\"\"\") \n",
    "    print(\"No updated\")\n",
    "    sys.exit(0)\n",
    "    \n",
    "log.log(\"\"\"오늘으으은~~! \n",
    "events에서 %s개, qualities에서 %s개가 변경 되었습니다! 👍\n",
    "🔊 처리를 시작합니다 지기지기~ 우우우웅~~ 둠칫둠칫~ 🔊\n",
    "\"\"\" % (event_diff, qualities_diff)) "
   ]
  },
  {
   "cell_type": "markdown",
   "metadata": {
    "collapsed": true
   },
   "source": [
    "# Loading origin tree"
   ]
  },
  {
   "cell_type": "code",
   "execution_count": 8,
   "metadata": {},
   "outputs": [
    {
     "name": "stdout",
     "output_type": "stream",
     "text": [
      "Loading original files\n"
     ]
    }
   ],
   "source": [
    "print(\"Loading original files\")\n",
    "with open(os.path.join(ORIGIN_PATH, 'events.json'), 'r') as f:\n",
    "    events_origin = json.load(f)\n",
    "\n",
    "with open(os.path.join(ORIGIN_PATH, 'qualities.json'), 'r') as f:\n",
    "    qualities_origin = json.load(f)\n"
   ]
  },
  {
   "cell_type": "markdown",
   "metadata": {
    "collapsed": true
   },
   "source": [
    "# Replacing original text to translated"
   ]
  },
  {
   "cell_type": "code",
   "execution_count": 9,
   "metadata": {},
   "outputs": [
    {
     "name": "stdout",
     "output_type": "stream",
     "text": [
      "events matched: 14676 unmatched: 19789  =  42.58232989989845 %\n",
      "qualities matched: 916 unmatched: 610  =  60.026212319790304 %\n"
     ]
    }
   ],
   "source": [
    "updater = RecursiveUpdateProcessor()\n",
    "\n",
    "matched, unmatched = updater.process(events_origin, events)\n",
    "print('events matched:', matched, 'unmatched:', unmatched, \" = \", matched*100/(matched+unmatched), \"%\")\n",
    "\n",
    "matched, unmatched = updater.process(qualities_origin, qualities)\n",
    "print('qualities matched:', matched, 'unmatched:', unmatched, \" = \", matched*100/(matched+unmatched), \"%\")"
   ]
  },
  {
   "cell_type": "code",
   "execution_count": 10,
   "metadata": {},
   "outputs": [
    {
     "name": "stdout",
     "output_type": "stream",
     "text": [
      "Saving updated files\n"
     ]
    }
   ],
   "source": [
    "print(\"Saving updated files\")\n",
    "with open(os.path.join(TRANS_PATH, \"events.json\"), \"w\") as f:\n",
    "    json.dump(events_origin, f)\n",
    "    \n",
    "with open(os.path.join(TRANS_PATH, \"qualities.json\"), \"w\") as f:\n",
    "    json.dump(qualities_origin, f)"
   ]
  },
  {
   "cell_type": "markdown",
   "metadata": {},
   "source": [
    "# Package files"
   ]
  },
  {
   "cell_type": "code",
   "execution_count": null,
   "metadata": {
    "collapsed": true
   },
   "outputs": [],
   "source": [
    "now = datetime.datetime.now(pytz.timezone('Asia/Seoul'))\n",
    "output_name = \"sunless_sea_ko_%s.zip\" % now.strftime('%Y%m%d_%H%M')\n",
    "output_path = os.path.join(OUTPUT_PATH, output_name)\n",
    "\n",
    "with zipfile.ZipFile(output_path, 'w', zipfile.ZIP_DEFLATED) as myzip:\n",
    "    myzip.write(os.path.join(TRANS_PATH, \"events.json\"), arcname=\"events.json\")\n",
    "    myzip.write(os.path.join(TRANS_PATH, \"qualities.json\"), arcname=\"qualities.json\")\n",
    "    \n",
    "print(output_path)\n",
    "log.log(\"\"\"\n",
    "\n",
    "파일 생성 완료! 파일 다운로드는 아래 링크를 이용해 주세요!\n",
    "--------------------------------------------\n",
    "http://eggpang.net/sunless/%s\n",
    "\"\"\" % output_name)\n"
   ]
  },
  {
   "cell_type": "markdown",
   "metadata": {
    "collapsed": true
   },
   "source": [
    "# Save last status"
   ]
  },
  {
   "cell_type": "code",
   "execution_count": 8,
   "metadata": {},
   "outputs": [],
   "source": [
    "with open(os.path.join(STATUS_PATH, 'events.json'), 'w') as f:\n",
    "    json.dump(events, f)\n",
    "    \n",
    "with open(os.path.join(STATUS_PATH, 'qualities.json'), 'w') as f:\n",
    "    json.dump(qualities, f)    "
   ]
  },
  {
   "cell_type": "code",
   "execution_count": 4,
   "metadata": {
    "collapsed": true
   },
   "outputs": [],
   "source": []
  },
  {
   "cell_type": "code",
   "execution_count": null,
   "metadata": {
    "collapsed": true
   },
   "outputs": [],
   "source": []
  }
 ],
 "metadata": {
  "kernelspec": {
   "display_name": "Python 3",
   "language": "python",
   "name": "python3"
  },
  "language_info": {
   "codemirror_mode": {
    "name": "ipython",
    "version": 3
   },
   "file_extension": ".py",
   "mimetype": "text/x-python",
   "name": "python",
   "nbconvert_exporter": "python",
   "pygments_lexer": "ipython3",
   "version": "3.6.1"
  }
 },
 "nbformat": 4,
 "nbformat_minor": 2
}
