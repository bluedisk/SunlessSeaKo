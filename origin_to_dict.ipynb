{
 "cells": [
  {
   "cell_type": "code",
   "execution_count": 1,
   "metadata": {},
   "outputs": [],
   "source": [
    "import json\n",
    "import sys\n",
    "from zipfile import ZipFile\n",
    "\n",
    "import os\n",
    "import hashlib\n",
    "\n",
    "import datetime\n",
    "import pytz\n",
    "\n",
    "import telegram\n",
    "\n",
    "from pprint import pprint\n",
    "from translator import Translator\n",
    "from sunless import RecursiveProcessor\n",
    "\n",
    "OUTPUT_PATH = 'output'\n",
    "ORIGIN_PATH = 'entities'\n",
    "TRANS_PATH = 'entities_ko'\n",
    "STATUS_PATH = 'status'\n",
    "\n",
    "CONFIG_FILE = 'config.json'"
   ]
  },
  {
   "cell_type": "code",
   "execution_count": 2,
   "metadata": {},
   "outputs": [],
   "source": [
    "from config import config"
   ]
  },
  {
   "cell_type": "code",
   "execution_count": 3,
   "metadata": {},
   "outputs": [
    {
     "name": "stdout",
     "output_type": "stream",
     "text": [
      "Loading original files\n"
     ]
    }
   ],
   "source": [
    "print(\"Loading original files\")\n",
    "with open(os.path.join(ORIGIN_PATH, 'events.json'), 'r') as f:\n",
    "    events_origin = json.load(f)\n",
    "\n",
    "with open(os.path.join(ORIGIN_PATH, 'qualities.json'), 'r') as f:\n",
    "    qualities_origin = json.load(f)\n"
   ]
  },
  {
   "cell_type": "code",
   "execution_count": 4,
   "metadata": {},
   "outputs": [],
   "source": [
    "class TreeDumpProcessor(RecursiveProcessor):\n",
    "        \n",
    "    def process(self, root):\n",
    "        self.result_dict = {}\n",
    "        self.crash_list = []\n",
    "        succ, failed = super(TreeDumpProcessor, self).process(root)\n",
    "        print(\"succ\", succ, \"failed\", failed)\n",
    "        return self.result_dict, self.crash_list\n",
    "\n",
    "    def _process_node(self, node, parentName):\n",
    "        node_id = \"%s/%s\" % (parentName, node['Id'])\n",
    "        \n",
    "        if node_id in self.result_dict:\n",
    "            self.crash_list.append(node_id)\n",
    "            print(\"===================================\")\n",
    "            print(\"Crash \", node_id)\n",
    "            print(self.result_dict[node_id])\n",
    "            print(\"-----------------------------\")\n",
    "            print(node)\n",
    "            return False\n",
    "        \n",
    "        self.result_dict[node_id] = {\n",
    "            'Id': node['Id'],\n",
    "            'Name': node.get('Name', None),\n",
    "            'Teaser': node.get('Teaser', None),\n",
    "            'Description': node.get('Description', None),\n",
    "            'keys': list(node.keys())\n",
    "        }\n",
    "\n",
    "        return True"
   ]
  },
  {
   "cell_type": "code",
   "execution_count": 5,
   "metadata": {
    "scrolled": false
   },
   "outputs": [
    {
     "name": "stdout",
     "output_type": "stream",
     "text": [
      "succ 10653 failed 0\n"
     ]
    }
   ],
   "source": [
    "dumper = TreeDumpProcessor()\n",
    "res, crs=dumper.process(events_origin)"
   ]
  },
  {
   "cell_type": "code",
   "execution_count": 6,
   "metadata": {},
   "outputs": [
    {
     "data": {
      "text/plain": [
       "0"
      ]
     },
     "execution_count": 6,
     "metadata": {},
     "output_type": "execute_result"
    }
   ],
   "source": [
    "len(crs)"
   ]
  },
  {
   "cell_type": "code",
   "execution_count": null,
   "metadata": {},
   "outputs": [],
   "source": []
  },
  {
   "cell_type": "code",
   "execution_count": null,
   "metadata": {},
   "outputs": [],
   "source": []
  },
  {
   "cell_type": "code",
   "execution_count": null,
   "metadata": {},
   "outputs": [],
   "source": []
  },
  {
   "cell_type": "code",
   "execution_count": null,
   "metadata": {},
   "outputs": [],
   "source": []
  }
 ],
 "metadata": {
  "kernelspec": {
   "display_name": "Python 3",
   "language": "python",
   "name": "python3"
  },
  "language_info": {
   "codemirror_mode": {
    "name": "ipython",
    "version": 3
   },
   "file_extension": ".py",
   "mimetype": "text/x-python",
   "name": "python",
   "nbconvert_exporter": "python",
   "pygments_lexer": "ipython3",
   "version": "3.5.2"
  }
 },
 "nbformat": 4,
 "nbformat_minor": 2
}
